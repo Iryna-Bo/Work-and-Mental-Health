{
 "cells": [
  {
   "cell_type": "code",
   "execution_count": null,
   "id": "2cc0f0e9-f70a-444a-b4a6-4cc270a12d62",
   "metadata": {},
   "outputs": [],
   "source": [
    "# To check the correlation between the values ​​of physical activity and the level of stress, I will use the Pearson Correlation Coefficient.\n",
    "\n",
    "# x(Physical_Activity): 1-None, 2-Weekly, 3-Daily \n",
    "# y(Stress_Level): 1-Low, 2-Medium, 3-High"
   ]
  },
  {
   "cell_type": "code",
   "execution_count": 9,
   "id": "44ef503a-0dcc-49e0-8eeb-f1946baca7a3",
   "metadata": {},
   "outputs": [],
   "source": [
    "import pandas as pd"
   ]
  },
  {
   "cell_type": "code",
   "execution_count": 40,
   "id": "4eb345c4-c16e-40ad-9c40-5c8080e8e4c3",
   "metadata": {},
   "outputs": [],
   "source": [
    "data = pd.read_excel('excel/Correlation.xlsx')"
   ]
  },
  {
   "cell_type": "code",
   "execution_count": 3,
   "id": "b0687d38-eb07-4795-b0f0-8603c3bec4ee",
   "metadata": {},
   "outputs": [
    {
     "name": "stdout",
     "output_type": "stream",
     "text": [
      "column_x    int64\n",
      "column_y    int64\n",
      "dtype: object\n"
     ]
    }
   ],
   "source": [
    "print(data.dtypes)"
   ]
  },
  {
   "cell_type": "code",
   "execution_count": 12,
   "id": "65f44e16-9755-400c-9b28-0c637c4209a4",
   "metadata": {},
   "outputs": [],
   "source": [
    "x = data['column_x'].values\n",
    "y = data['column_y'].values"
   ]
  },
  {
   "cell_type": "code",
   "execution_count": 13,
   "id": "3d7e8e27-fd0b-42d2-a1ee-51f4078c146b",
   "metadata": {},
   "outputs": [
    {
     "name": "stdout",
     "output_type": "stream",
     "text": [
      "[2 2 1 ... 3 3 1]\n",
      "[2 2 2 ... 3 1 1]\n"
     ]
    }
   ],
   "source": [
    "print(x)\n",
    "print(y)"
   ]
  },
  {
   "cell_type": "code",
   "execution_count": 41,
   "id": "93fd55bd-d274-4bc8-9345-c889a4a31e92",
   "metadata": {},
   "outputs": [
    {
     "name": "stdout",
     "output_type": "stream",
     "text": [
      "[2 2 1 1 2]\n",
      "[2 2 2 3 3]\n"
     ]
    }
   ],
   "source": [
    "print(x[:5])  # check\n",
    "print(y[:5])"
   ]
  },
  {
   "cell_type": "code",
   "execution_count": 14,
   "id": "1c5ea8da-8a79-4fb3-8c86-41367cb109cd",
   "metadata": {},
   "outputs": [],
   "source": [
    "import numpy as np"
   ]
  },
  {
   "cell_type": "code",
   "execution_count": 15,
   "id": "b11947a9-39b3-4fde-b8a7-be2ce319754d",
   "metadata": {},
   "outputs": [],
   "source": [
    "correlation = np.corrcoef(x, y)[0, 1]"
   ]
  },
  {
   "cell_type": "code",
   "execution_count": 19,
   "id": "2ee047c1-03be-4c78-999f-5e5ecfeb9422",
   "metadata": {},
   "outputs": [
    {
     "name": "stdout",
     "output_type": "stream",
     "text": [
      "Pearson Сorrelation Сoefficient: -0.004530262491804627\n"
     ]
    }
   ],
   "source": [
    "print(\"Pearson Сorrelation Сoefficient:\", correlation)"
   ]
  },
  {
   "cell_type": "code",
   "execution_count": 21,
   "id": "2a48b027-7a20-490c-b91a-63ed4022e923",
   "metadata": {},
   "outputs": [],
   "source": [
    "# Let's make a visualization"
   ]
  },
  {
   "cell_type": "code",
   "execution_count": 29,
   "id": "61e3b810-9dd6-4cc5-b4e3-3272684c1856",
   "metadata": {},
   "outputs": [],
   "source": [
    "import matplotlib.pyplot as plt"
   ]
  },
  {
   "cell_type": "code",
   "execution_count": 30,
   "id": "938c2c2c-ee1f-47d7-9e48-6538f45d5f20",
   "metadata": {},
   "outputs": [
    {
     "name": "stdout",
     "output_type": "stream",
     "text": [
      "Кількість точок у x: 5000, у y: 5000\n"
     ]
    }
   ],
   "source": [
    "# Checking the number of points\n",
    "print(f\"number of points у x: {len(x)}, у y: {len(y)}\")"
   ]
  },
  {
   "cell_type": "code",
   "execution_count": 33,
   "id": "dbdaf5e2-2f47-4128-8e5b-2ec988118321",
   "metadata": {},
   "outputs": [],
   "source": [
    "# Table of frequencies of combinations of values\n",
    "heatmap_data = pd.crosstab(x, y)"
   ]
  },
  {
   "cell_type": "code",
   "execution_count": 36,
   "id": "381bc5a0-1225-47f3-a01d-534f0aee1535",
   "metadata": {},
   "outputs": [
    {
     "data": {
      "image/png": "[encoded data removed]",
      "text/plain": [
       "<Figure size 640x480 with 2 Axes>"
      ]
     },
     "metadata": {},
     "output_type": "display_data"
    }
   ],
   "source": [
    "# The heat map\n",
    "sns.heatmap(heatmap_data, annot=True, fmt='d', cmap='coolwarm')\n",
    "\n",
    "plt.title('Heatmap')\n",
    "plt.xlabel('Stress_Level')\n",
    "plt.ylabel('Physical_Activity')\n",
    "\n",
    "plt.show()"
   ]
  },
  {
   "cell_type": "code",
   "execution_count": 43,
   "id": "e53065d0-4814-49bb-9b0f-3d4b3f212eee",
   "metadata": {},
   "outputs": [],
   "source": [
    "# Сonclusion: "
   ]
  },
  {
   "cell_type": "code",
   "execution_count": 44,
   "id": "f59b325c-aca1-4ccd-a7a7-167cab4c2742",
   "metadata": {},
   "outputs": [],
   "source": [
    "# The correlation coefficient, which is -0.0045, indicates a very weak negative relationship between the variables.\n",
    "# A negative sign indicates that when one variable increases, the other variable tends to decrease, but since the value is close to zero, \n",
    "# this relationship is practically insignificant."
   ]
  }
 ],
 "metadata": {
  "kernelspec": {
   "display_name": "Python 3 (ipykernel)",
   "language": "python",
   "name": "python3"
  },
  "language_info": {
   "codemirror_mode": {
    "name": "ipython",
    "version": 3
   },
   "file_extension": ".py",
   "mimetype": "text/x-python",
   "name": "python",
   "nbconvert_exporter": "python",
   "pygments_lexer": "ipython3",
   "version": "3.12.1"
  }
 },
 "nbformat": 4,
 "nbformat_minor": 5
}

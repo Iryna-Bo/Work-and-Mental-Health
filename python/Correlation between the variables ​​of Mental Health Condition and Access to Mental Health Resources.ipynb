{
 "cells": [
  {
   "cell_type": "code",
   "execution_count": 1,
   "id": "6eb292a8-4406-4714-8b79-214b9fc98b36",
   "metadata": {},
   "outputs": [],
   "source": [
    "# To check the correlation between the variables ​​of Mental Health Condition and Access to Mental Health Resources, \n",
    "# I will use the Chi-square test.\n",
    "\n",
    "# Access_to_Mental_Health_Resources: Yes, No\n",
    "# Mental_Health_Condition: Depression, Anxiety, None, Burnout"
   ]
  },
  {
   "cell_type": "code",
   "execution_count": 1,
   "id": "d017fd45-3b9f-4058-b28c-910c3c8841bc",
   "metadata": {},
   "outputs": [],
   "source": [
    "import pandas as pd\n",
    "from scipy.stats import chi2_contingency"
   ]
  },
  {
   "cell_type": "code",
   "execution_count": 70,
   "id": "533534a9-a8bc-4c94-9598-108fb0d33dd6",
   "metadata": {},
   "outputs": [
    {
     "name": "stdout",
     "output_type": "stream",
     "text": [
      "  Access_to_Mental_Health_Resources Mental_Health_Condition\n",
      "0                                No              Depression\n",
      "1                                No                 Anxiety\n",
      "2                                No                 Anxiety\n",
      "3                               Yes              Depression\n",
      "4                               Yes                     NaN\n"
     ]
    }
   ],
   "source": [
    "file_path = 'excel/Correlation2.xlsx'  \n",
    "data = pd.read_excel(file_path)\n",
    "\n",
    "# check\n",
    "print(data.head())"
   ]
  },
  {
   "cell_type": "code",
   "execution_count": 71,
   "id": "f7a6b597-46a1-40b6-99e0-9f604529649e",
   "metadata": {},
   "outputs": [],
   "source": [
    "# Change NaN to \"None\"\n",
    "data['Mental_Health_Condition'] = data['Mental_Health_Condition'].fillna('None')"
   ]
  },
  {
   "cell_type": "code",
   "execution_count": 72,
   "id": "9e230a09-dad9-4851-8da7-6b5b23e1cc09",
   "metadata": {},
   "outputs": [
    {
     "name": "stdout",
     "output_type": "stream",
     "text": [
      "  Access_to_Mental_Health_Resources Mental_Health_Condition\n",
      "0                                No              Depression\n",
      "1                                No                 Anxiety\n",
      "2                                No                 Anxiety\n",
      "3                               Yes              Depression\n",
      "4                               Yes                    None\n"
     ]
    }
   ],
   "source": [
    "# check\n",
    "print(data.head())"
   ]
  },
  {
   "cell_type": "code",
   "execution_count": 8,
   "id": "5a863971-2507-4b0b-baad-d9f8e59101b0",
   "metadata": {},
   "outputs": [
    {
     "name": "stdout",
     "output_type": "stream",
     "text": [
      "['Depression' 'Anxiety' 'None' 'Burnout']\n"
     ]
    }
   ],
   "source": [
    "print(data['Mental_Health_Condition'].unique())"
   ]
  },
  {
   "cell_type": "code",
   "execution_count": 73,
   "id": "61a59dbd-e96e-493c-aaca-54eb13763179",
   "metadata": {},
   "outputs": [
    {
     "name": "stdout",
     "output_type": "stream",
     "text": [
      "Access_to_Mental_Health_Resources   No  Yes\n",
      "Mental_Health_Condition                    \n",
      "Anxiety                            646  632\n",
      "Burnout                            665  615\n",
      "Depression                         614  632\n",
      "None                               628  568\n"
     ]
    }
   ],
   "source": [
    "# Contingency table\n",
    "contingency_table = pd.crosstab(data['Mental_Health_Condition'], data['Access_to_Mental_Health_Resources'])\n",
    "\n",
    "print(contingency_table)"
   ]
  },
  {
   "cell_type": "code",
   "execution_count": 74,
   "id": "5f91a004-01b0-47b8-a439-e61e19c3026c",
   "metadata": {},
   "outputs": [
    {
     "name": "stdout",
     "output_type": "stream",
     "text": [
      "Chi-squared: 3.130762269577091\n",
      "P-value: 0.37190029737865\n",
      "Degrees of freedom: 3\n",
      "Expected frequencies: [[652.5468 625.4532]\n",
      " [653.568  626.432 ]\n",
      " [636.2076 609.7924]\n",
      " [610.6776 585.3224]]\n"
     ]
    }
   ],
   "source": [
    "# Chi-square test\n",
    "chi2, p, dof, expected = chi2_contingency(contingency_table)\n",
    "\n",
    "print(\"Chi-squared:\", chi2)\n",
    "print(\"P-value:\", p)\n",
    "print(\"Degrees of freedom:\", dof)\n",
    "print(\"Expected frequencies:\", expected)"
   ]
  },
  {
   "cell_type": "code",
   "execution_count": 75,
   "id": "74eb14ce-3435-444a-9a83-d6a289de27fb",
   "metadata": {},
   "outputs": [
    {
     "name": "stdout",
     "output_type": "stream",
     "text": [
      "There is no statistically significant relationship between the presence of health problems and access to mental health resources.\n"
     ]
    }
   ],
   "source": [
    "# Interpretation\n",
    "\n",
    "if p < 0.05:\n",
    "    print(\"There is a statistically significant relationship between the presence of health problems and access to mental health resources.\")\n",
    "else:\n",
    "    print(\"There is no statistically significant relationship between the presence of health problems and access to mental health resources.\")"
   ]
  },
  {
   "cell_type": "code",
   "execution_count": null,
   "id": "aa5d8da7-7000-4a64-8e1e-87a486316510",
   "metadata": {},
   "outputs": [],
   "source": []
  },
  {
   "cell_type": "code",
   "execution_count": null,
   "id": "ab404d85-8012-4eba-a9bd-a7031c6bd5a2",
   "metadata": {},
   "outputs": [],
   "source": [
    "# Let's build a Heat map"
   ]
  },
  {
   "cell_type": "code",
   "execution_count": 2,
   "id": "13f0e53d-1ea8-49eb-9cda-720639c18438",
   "metadata": {},
   "outputs": [],
   "source": [
    "import matplotlib.pyplot as plt\n",
    "import seaborn as sns"
   ]
  },
  {
   "cell_type": "code",
   "execution_count": 79,
   "id": "27db608d-af96-45b4-bec2-f02646e3bd21",
   "metadata": {},
   "outputs": [
    {
     "data": {
      "image/png": "[encoded data removed]",
      "text/plain": [
       "<Figure size 800x600 with 2 Axes>"
      ]
     },
     "metadata": {},
     "output_type": "display_data"
    }
   ],
   "source": [
    "plt.figure(figsize=(8, 6))\n",
    "sns.heatmap(contingency_table, annot=True, fmt='d', cmap='YlGnBu')\n",
    "plt.title('Heat map: Availability of mental health resources and mental health condition')\n",
    "plt.xlabel('Access to mental health resources')\n",
    "plt.ylabel('Mental health condition')\n",
    "plt.show()"
   ]
  },
  {
   "cell_type": "code",
   "execution_count": null,
   "id": "ef49e6c6-cf40-431c-8bf8-725c591fb5ab",
   "metadata": {},
   "outputs": [],
   "source": []
  },
  {
   "cell_type": "code",
   "execution_count": 21,
   "id": "f04b2cf2-10b4-4456-b72d-01b9089840a8",
   "metadata": {},
   "outputs": [],
   "source": [
    "# Next, I analyze the relationship between these variables, but only for Remote Employees"
   ]
  },
  {
   "cell_type": "code",
   "execution_count": 4,
   "id": "6f43e44d-2b5f-4f96-b560-30a723bb92bd",
   "metadata": {},
   "outputs": [],
   "source": [
    "file_path = 'C:/Users/oneli/Portfolio/Correlation2.Remote.xlsx'  #'excel/Correlation2.Remote.xlsx'\n",
    "data = pd.read_excel(file_path)"
   ]
  },
  {
   "cell_type": "code",
   "execution_count": 7,
   "id": "a6e25103-8070-4e4b-8338-d2f60754c4f1",
   "metadata": {},
   "outputs": [
    {
     "name": "stdout",
     "output_type": "stream",
     "text": [
      "  Access_to_Mental_Health_Resources Mental_Health_Condition\n",
      "0                                No                 Anxiety\n",
      "1                               Yes                 Anxiety\n",
      "2                               Yes                    None\n",
      "3                               Yes              Depression\n",
      "4                               Yes                 Anxiety\n"
     ]
    }
   ],
   "source": [
    "data['Mental_Health_Condition'] = data['Mental_Health_Condition'].fillna('None')\n",
    "print(data.head())"
   ]
  },
  {
   "cell_type": "code",
   "execution_count": 8,
   "id": "2e82f7aa-e2c9-45d5-acad-5d556319da0f",
   "metadata": {},
   "outputs": [
    {
     "name": "stdout",
     "output_type": "stream",
     "text": [
      "Access_to_Mental_Health_Resources   No  Yes\n",
      "Mental_Health_Condition                    \n",
      "Anxiety                            235  208\n",
      "Burnout                            238  200\n",
      "Depression                         194  219\n",
      "None                               229  191\n"
     ]
    }
   ],
   "source": [
    "# Contingency table\n",
    "contingency_table = pd.crosstab(data['Mental_Health_Condition'], data['Access_to_Mental_Health_Resources'])\n",
    "\n",
    "print(contingency_table)"
   ]
  },
  {
   "cell_type": "code",
   "execution_count": 25,
   "id": "94e8e552-dccd-4030-911a-9122e4206e67",
   "metadata": {},
   "outputs": [
    {
     "name": "stdout",
     "output_type": "stream",
     "text": [
      "Chi-squared: 6.3573884495402195\n",
      "P-value: 0.09545964803848965\n",
      "Degrees of freedom: 3\n",
      "Expected frequencies: [[231.57992999 211.42007001]\n",
      " [228.96616103 209.03383897]\n",
      " [215.89731622 197.10268378]\n",
      " [219.55659277 200.44340723]]\n"
     ]
    }
   ],
   "source": [
    "# Chi-square test\n",
    "chi2, p, dof, expected = chi2_contingency(contingency_table)\n",
    "\n",
    "print(\"Chi-squared:\", chi2)\n",
    "print(\"P-value:\", p)\n",
    "print(\"Degrees of freedom:\", dof)\n",
    "print(\"Expected frequencies:\", expected)"
   ]
  },
  {
   "cell_type": "code",
   "execution_count": 26,
   "id": "a06b16fa-b5aa-44e2-bdc0-a037968285f5",
   "metadata": {},
   "outputs": [
    {
     "name": "stdout",
     "output_type": "stream",
     "text": [
      "There is no statistically significant relationship between the presence of health problems and access to mental health resources.\n"
     ]
    }
   ],
   "source": [
    "# Interpretation\n",
    "\n",
    "if p < 0.05:\n",
    "    print(\"There is a statistically significant relationship between the presence of health problems and access to mental health resources.\")\n",
    "else:\n",
    "    print(\"There is no statistically significant relationship between the presence of health problems and access to mental health resources.\")"
   ]
  },
  {
   "cell_type": "code",
   "execution_count": 9,
   "id": "5bc5a809-479f-454c-8037-7a364268621d",
   "metadata": {},
   "outputs": [
    {
     "data": {
      "image/png": "[encoded data removed]",
      "text/plain": [
       "<Figure size 800x600 with 2 Axes>"
      ]
     },
     "metadata": {},
     "output_type": "display_data"
    }
   ],
   "source": [
    "plt.figure(figsize=(8, 6))\n",
    "sns.heatmap(contingency_table, annot=True, fmt='d', cmap='YlGnBu')\n",
    "plt.title('Heat map: Availability of mental health resources and mental health condition (Remote Employees)')\n",
    "plt.xlabel('Access to mental health resources')\n",
    "plt.ylabel('Mental health condition')\n",
    "plt.show()"
   ]
  },
  {
   "cell_type": "code",
   "execution_count": null,
   "id": "30752a1c-a04f-4faa-b0fc-0440d05a68a3",
   "metadata": {},
   "outputs": [],
   "source": []
  },
  {
   "cell_type": "code",
   "execution_count": null,
   "id": "51122987-4389-48f8-a627-747d24590b5d",
   "metadata": {},
   "outputs": [],
   "source": [
    "# Chi-square test shows that there is no dependence between the studied variables.\n",
    "\n",
    "# But on the Heat map, we can see that when there is access to mental health resources, \n",
    "# there are fewer cases of burnout and anixiety than when there is no. \n",
    "\n",
    "# Therefore, we will try to apply Logistic Regression to further study these variables."
   ]
  },
  {
   "cell_type": "code",
   "execution_count": 28,
   "id": "47a80261-ce10-4319-a2c3-391d4a71103c",
   "metadata": {},
   "outputs": [],
   "source": [
    "# Logistic Regression"
   ]
  },
  {
   "cell_type": "code",
   "execution_count": 1,
   "id": "2cc2fe0b-a0b2-4848-8edc-efcfbfaa05d5",
   "metadata": {},
   "outputs": [],
   "source": [
    "import pandas as pd\n",
    "import statsmodels.api as sm"
   ]
  },
  {
   "cell_type": "code",
   "execution_count": 46,
   "id": "fd2659cc-145d-4e19-9791-3179b3050a86",
   "metadata": {},
   "outputs": [
    {
     "name": "stdout",
     "output_type": "stream",
     "text": [
      "  Access_to_Mental_Health_Resources Mental_Health_Condition\n",
      "0                                No              Depression\n",
      "1                                No                 Anxiety\n",
      "2                                No                 Anxiety\n",
      "3                               Yes              Depression\n",
      "4                               Yes                     NaN\n"
     ]
    }
   ],
   "source": [
    "data = pd.read_excel('excel/Correlation2.xlsx')\n",
    "\n",
    "print(data.head())"
   ]
  },
  {
   "cell_type": "code",
   "execution_count": 47,
   "id": "fff39fd5-84de-4dac-a603-4ccd4a4df8b9",
   "metadata": {},
   "outputs": [
    {
     "name": "stdout",
     "output_type": "stream",
     "text": [
      "  Access_to_Mental_Health_Resources Mental_Health_Condition\n",
      "0                                No              Depression\n",
      "1                                No                 Anxiety\n",
      "2                                No                 Anxiety\n",
      "3                               Yes              Depression\n",
      "4                               Yes                    None\n"
     ]
    }
   ],
   "source": [
    "data['Mental_Health_Condition'] = data['Mental_Health_Condition'].fillna('None')\n",
    "print(data.head())"
   ]
  },
  {
   "cell_type": "code",
   "execution_count": 63,
   "id": "c6a265dd-5d68-4b10-aefe-753e3064c71c",
   "metadata": {},
   "outputs": [
    {
     "name": "stdout",
     "output_type": "stream",
     "text": [
      "  Access_to_Mental_Health_Resources  Mental_Health_Condition_Burnout  \\\n",
      "0                                No                            False   \n",
      "1                                No                            False   \n",
      "2                                No                            False   \n",
      "3                               Yes                            False   \n",
      "4                               Yes                            False   \n",
      "\n",
      "   Mental_Health_Condition_Depression  Mental_Health_Condition_None  \n",
      "0                                True                         False  \n",
      "1                               False                         False  \n",
      "2                               False                         False  \n",
      "3                                True                         False  \n",
      "4                               False                          True  \n"
     ]
    }
   ],
   "source": [
    "# Conversion of categorical variables into numerical ones\n",
    "\n",
    "data = pd.get_dummies(data, columns=['Mental_Health_Condition'], drop_first=True)\n",
    "print(data.head())"
   ]
  },
  {
   "cell_type": "code",
   "execution_count": 55,
   "id": "2cd8e995-f0d2-40b6-807f-aebc6de96b06",
   "metadata": {},
   "outputs": [],
   "source": [
    "# Creating binary variables for each health problem\n",
    "\n",
    "data_encoded['Depression'] = (data_encoded['Mental_Health_Condition_Depression'] == 1).astype(int)\n",
    "data_encoded['Burnout'] = (data_encoded['Mental_Health_Condition_Burnout'] == 1).astype(int)\n",
    "data_encoded['None'] = (data_encoded['Mental_Health_Condition_None'] == 1).astype(int)\n",
    "data_encoded['Anxiety'] = (data_encoded['Mental_Health_Condition_Anxiety'] == 1).astype(int)"
   ]
  },
  {
   "cell_type": "code",
   "execution_count": 54,
   "id": "c5baeeee-b74c-40fd-bbdb-23dfe0b77be4",
   "metadata": {},
   "outputs": [
    {
     "name": "stdout",
     "output_type": "stream",
     "text": [
      "  Access_to_Mental_Health_Resources  Mental_Health_Condition_Anxiety  \\\n",
      "0                                No                            False   \n",
      "1                                No                             True   \n",
      "2                                No                             True   \n",
      "3                               Yes                            False   \n",
      "4                               Yes                            False   \n",
      "\n",
      "   Mental_Health_Condition_Burnout  Mental_Health_Condition_Depression  \\\n",
      "0                            False                                True   \n",
      "1                            False                               False   \n",
      "2                            False                               False   \n",
      "3                            False                                True   \n",
      "4                            False                               False   \n",
      "\n",
      "   Mental_Health_Condition_None  \n",
      "0                         False  \n",
      "1                         False  \n",
      "2                         False  \n",
      "3                         False  \n",
      "4                          True  \n"
     ]
    }
   ],
   "source": [
    "# check\n",
    "print(data_encoded.head())"
   ]
  },
  {
   "cell_type": "code",
   "execution_count": 64,
   "id": "4e21dd3c-e240-4664-9601-baca6de78079",
   "metadata": {},
   "outputs": [
    {
     "name": "stdout",
     "output_type": "stream",
     "text": [
      "Index(['Access_to_Mental_Health_Resources', 'Mental_Health_Condition_Burnout',\n",
      "       'Mental_Health_Condition_Depression', 'Mental_Health_Condition_None'],\n",
      "      dtype='object')\n"
     ]
    }
   ],
   "source": [
    "# check\n",
    "print(data.columns)"
   ]
  },
  {
   "cell_type": "code",
   "execution_count": 51,
   "id": "4128a94a-dede-4d2d-8f7f-a2dcdb15cc17",
   "metadata": {},
   "outputs": [],
   "source": [
    "data_encoded = pd.get_dummies(data, columns=['Mental_Health_Condition'])"
   ]
  },
  {
   "cell_type": "code",
   "execution_count": 52,
   "id": "21295ea3-81a8-452f-9a06-382c256c3b81",
   "metadata": {},
   "outputs": [
    {
     "name": "stdout",
     "output_type": "stream",
     "text": [
      "Mental_Health_Condition\n",
      "Burnout       1280\n",
      "Anxiety       1278\n",
      "Depression    1246\n",
      "None          1196\n",
      "Name: count, dtype: int64\n"
     ]
    }
   ],
   "source": [
    "# check\n",
    "print(data['Mental_Health_Condition'].value_counts())"
   ]
  },
  {
   "cell_type": "code",
   "execution_count": 59,
   "id": "997f0a60-7fd5-4299-af9d-caa2aeda67fa",
   "metadata": {},
   "outputs": [],
   "source": [
    "data_encoded['Access_to_Mental_Health_Resources'] = data_encoded['Access_to_Mental_Health_Resources'].map({'Yes': 1, 'No': 0})"
   ]
  },
  {
   "cell_type": "code",
   "execution_count": 53,
   "id": "fd3a6b33-cbfd-428f-a47e-3d2ab888f17d",
   "metadata": {},
   "outputs": [
    {
     "name": "stdout",
     "output_type": "stream",
     "text": [
      "Index(['Access_to_Mental_Health_Resources', 'Mental_Health_Condition_Anxiety',\n",
      "       'Mental_Health_Condition_Burnout', 'Mental_Health_Condition_Depression',\n",
      "       'Mental_Health_Condition_None'],\n",
      "      dtype='object')\n"
     ]
    }
   ],
   "source": [
    "# check\n",
    "print(data_encoded.columns)"
   ]
  },
  {
   "cell_type": "code",
   "execution_count": 40,
   "id": "901d14f0-8a79-4b3a-a6e3-6a6ecbcd9920",
   "metadata": {},
   "outputs": [],
   "source": [
    "if 'Mental_Health_Condition_Anxiety' in data_encoded.columns:\n",
    "    data_encoded['Anxiety'] = (data_encoded['Mental_Health_Condition_Anxiety'] == 1).astype(int)"
   ]
  },
  {
   "cell_type": "code",
   "execution_count": 65,
   "id": "290fc0bf-7f45-4b93-81e9-af5dd6b1a11e",
   "metadata": {},
   "outputs": [
    {
     "name": "stdout",
     "output_type": "stream",
     "text": [
      "Optimization terminated successfully.\n",
      "         Current function value: 0.568386\n",
      "         Iterations 5\n",
      "                           Logit Regression Results                           \n",
      "==============================================================================\n",
      "Dep. Variable:                Anxiety   No. Observations:                 5000\n",
      "Model:                          Logit   Df Residuals:                     4998\n",
      "Method:                           MLE   Df Model:                            1\n",
      "Date:                Sun, 20 Oct 2024   Pseudo R-squ.:               3.172e-05\n",
      "Time:                        19:21:14   Log-Likelihood:                -2841.9\n",
      "converged:                       True   LL-Null:                       -2842.0\n",
      "Covariance Type:            nonrobust   LLR p-value:                    0.6711\n",
      "=====================================================================================================\n",
      "                                        coef    std err          z      P>|z|      [0.025      0.975]\n",
      "-----------------------------------------------------------------------------------------------------\n",
      "const                                -1.0825      0.046    -23.779      0.000      -1.172      -0.993\n",
      "Access_to_Mental_Health_Resources     0.0275      0.065      0.425      0.671      -0.100       0.155\n",
      "=====================================================================================================\n"
     ]
    }
   ],
   "source": [
    "# let's run a logistic regression for Anxiety:\n",
    "\n",
    "X = sm.add_constant(data_encoded['Access_to_Mental_Health_Resources'])  # constant\n",
    "y = data_encoded['Anxiety']  # dependent variable\n",
    "\n",
    "# logistic regression model\n",
    "model = sm.Logit(y, X)\n",
    "result = model.fit()\n",
    "\n",
    "print(result.summary())"
   ]
  },
  {
   "cell_type": "code",
   "execution_count": null,
   "id": "8148b35f-daac-49a8-a10c-8dc073ae721d",
   "metadata": {},
   "outputs": [],
   "source": [
    "# Conclusion for Anxiety: \n",
    "\n",
    "# The coefficient of 0.0275 for the variable Access_to_Mental_Health_Resources shows that having access to resources has a very small effect \n",
    "# on the probability of anxiety. The coefficient is positive, but its value is very close to zero, which indicates practically no influence.\n",
    "\n",
    "# The value of p = 0.671 is significantly greater than the standard level of significance (0.05), which means that there is no statistically \n",
    "# significant relationship between access to health resources and the presence of anxiety. \n",
    "# That is, changing access to the mental health resources has no significant effect on the probability of anxiety."
   ]
  },
  {
   "cell_type": "code",
   "execution_count": null,
   "id": "d9f083d2-c77d-475e-aed7-92e079752c63",
   "metadata": {},
   "outputs": [],
   "source": []
  },
  {
   "cell_type": "code",
   "execution_count": 62,
   "id": "aea502a2-0a62-4f08-9bad-a0db1cceb958",
   "metadata": {},
   "outputs": [
    {
     "name": "stdout",
     "output_type": "stream",
     "text": [
      "Optimization terminated successfully.\n",
      "         Current function value: 0.568776\n",
      "         Iterations 5\n",
      "                           Logit Regression Results                           \n",
      "==============================================================================\n",
      "Dep. Variable:                Burnout   No. Observations:                 5000\n",
      "Model:                          Logit   Df Residuals:                     4998\n",
      "Method:                           MLE   Df Model:                            1\n",
      "Date:                Fri, 18 Oct 2024   Pseudo R-squ.:               9.657e-05\n",
      "Time:                        17:54:03   Log-Likelihood:                -2843.9\n",
      "converged:                       True   LL-Null:                       -2844.2\n",
      "Covariance Type:            nonrobust   LLR p-value:                    0.4586\n",
      "=====================================================================================================\n",
      "                                        coef    std err          z      P>|z|      [0.025      0.975]\n",
      "-----------------------------------------------------------------------------------------------------\n",
      "const                                -1.0435      0.045    -23.141      0.000      -1.132      -0.955\n",
      "Access_to_Mental_Health_Resources    -0.0481      0.065     -0.741      0.459      -0.175       0.079\n",
      "=====================================================================================================\n"
     ]
    }
   ],
   "source": [
    "# logistic regression for Burnout:\n",
    "\n",
    "X = sm.add_constant(data_encoded['Access_to_Mental_Health_Resources'])  # constant\n",
    "y = data_encoded['Burnout']  # dependent variable\n",
    "\n",
    "# logistic regression model\n",
    "model = sm.Logit(y, X)\n",
    "result = model.fit()\n",
    "\n",
    "print(result.summary())"
   ]
  },
  {
   "cell_type": "code",
   "execution_count": null,
   "id": "fdb06ef2-4530-4c56-b56c-0ba2340dcdeb",
   "metadata": {},
   "outputs": [],
   "source": [
    "# Conclusion for Burnout:\n",
    "\n",
    "# Pseudo R-squared (Pseudo R-squ.: 9.657e-05): Pseudo R² is very low, indicating that the model does not explain well the variation in variable burnout.\n",
    "\n",
    "# Access_to_Mental_Health_Resources (-0.0481): Coefficient for the access to resources variable. It shows the effect of access to the \n",
    "# mental health resources on the probability of burnout. The negative sign suggests that having access to resources reduces the likelihood of burnout, \n",
    "# but the effect is very small. \n",
    "\n",
    "# However, this result is not statistically significant (p-value 0.459, which is greater than the threshold level of 0.05)."
   ]
  },
  {
   "cell_type": "code",
   "execution_count": null,
   "id": "d93d08ae-ec7a-4088-9a94-c0adf2aa0732",
   "metadata": {},
   "outputs": [],
   "source": []
  },
  {
   "cell_type": "code",
   "execution_count": null,
   "id": "44251d7d-7471-433c-86ef-912bc369620a",
   "metadata": {},
   "outputs": [],
   "source": [
    "# General Conclusionfor Anxiety and Burnout:\n",
    "\n",
    "# Access to the mental health resources has no significant effect on the presence of anxiety and burnout among the interviewed employees. \n",
    "# The model barely explains the variation in levels of anxiety and burnout, and the result indicates no statistically significant relationship between \n",
    "# the independent and dependent variables."
   ]
  }
 ],
 "metadata": {
  "kernelspec": {
   "display_name": "Python 3 (ipykernel)",
   "language": "python",
   "name": "python3"
  },
  "language_info": {
   "codemirror_mode": {
    "name": "ipython",
    "version": 3
   },
   "file_extension": ".py",
   "mimetype": "text/x-python",
   "name": "python",
   "nbconvert_exporter": "python",
   "pygments_lexer": "ipython3",
   "version": "3.12.1"
  }
 },
 "nbformat": 4,
 "nbformat_minor": 5
}
